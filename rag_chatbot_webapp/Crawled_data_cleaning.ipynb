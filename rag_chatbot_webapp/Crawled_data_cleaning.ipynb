{
 "cells": [
  {
   "cell_type": "code",
   "execution_count": 1,
   "id": "6974d379-d468-4330-83c2-a2163d879808",
   "metadata": {},
   "outputs": [
    {
     "name": "stdout",
     "output_type": "stream",
     "text": [
      "Requirement already satisfied: matplotlib in /Users/metin_turgal/anaconda3/lib/python3.11/site-packages (3.8.0)\n",
      "Requirement already satisfied: contourpy>=1.0.1 in /Users/metin_turgal/anaconda3/lib/python3.11/site-packages (from matplotlib) (1.2.0)\n",
      "Requirement already satisfied: cycler>=0.10 in /Users/metin_turgal/anaconda3/lib/python3.11/site-packages (from matplotlib) (0.11.0)\n",
      "Requirement already satisfied: fonttools>=4.22.0 in /Users/metin_turgal/anaconda3/lib/python3.11/site-packages (from matplotlib) (4.25.0)\n",
      "Requirement already satisfied: kiwisolver>=1.0.1 in /Users/metin_turgal/anaconda3/lib/python3.11/site-packages (from matplotlib) (1.4.4)\n",
      "Requirement already satisfied: numpy<2,>=1.21 in /Users/metin_turgal/anaconda3/lib/python3.11/site-packages (from matplotlib) (1.26.3)\n",
      "Requirement already satisfied: packaging>=20.0 in /Users/metin_turgal/anaconda3/lib/python3.11/site-packages (from matplotlib) (23.1)\n",
      "Requirement already satisfied: pillow>=6.2.0 in /Users/metin_turgal/anaconda3/lib/python3.11/site-packages (from matplotlib) (10.0.1)\n",
      "Requirement already satisfied: pyparsing>=2.3.1 in /Users/metin_turgal/anaconda3/lib/python3.11/site-packages (from matplotlib) (3.0.9)\n",
      "Requirement already satisfied: python-dateutil>=2.7 in /Users/metin_turgal/anaconda3/lib/python3.11/site-packages (from matplotlib) (2.8.2)\n",
      "Requirement already satisfied: six>=1.5 in /Users/metin_turgal/anaconda3/lib/python3.11/site-packages (from python-dateutil>=2.7->matplotlib) (1.16.0)\n",
      "Note: you may need to restart the kernel to use updated packages.\n"
     ]
    }
   ],
   "source": [
    "pip install matplotlib"
   ]
  },
  {
   "cell_type": "code",
   "execution_count": 2,
   "id": "45c830d4-1827-45af-8679-893e08ed54b7",
   "metadata": {},
   "outputs": [],
   "source": [
    "import re"
   ]
  },
  {
   "cell_type": "code",
   "execution_count": 3,
   "id": "38c68143-e5b3-4ccb-a7f4-fe45c146fb9a",
   "metadata": {},
   "outputs": [
    {
     "name": "stderr",
     "output_type": "stream",
     "text": [
      "/var/folders/7r/c2nc74jn3nl4pqz_qsx8d_jw0000gn/T/ipykernel_59924/2762550742.py:2: DtypeWarning: Columns (11,12,14,18,20,21,24,25,27,29,31,32,33,34,36,37,39,40,41,42,43,44,46,49,52,54,55,56,57,58,61,62,63,64,67,68,69,76,88,110,111,112,114,115,116,119,122,124,125,126,127,128,129,130,131,132,133,134,135,136,139,140,141,142,143,144,145,146,147,148,149,150,153,154,155,167,168,169,170,171,172,173,174,180,202,203,204,206,207,210,214,223,225,226,227,228,229,231,232,234,235,236,237,238,239,240,241,243,244,245,246,247,248,249,250,251,252,253,254,255,256,257,258,259,260,261,262,263,264,285,286,287,288,289,290,291,292,293,294,295,296,297,298,299,300,301,302,303,304,305,306,307,308,309,310,311,312) have mixed types. Specify dtype option on import or set low_memory=False.\n",
      "  df = pd.read_csv('novartis_crawl_data.csv')\n"
     ]
    },
    {
     "data": {
      "text/html": [
       "<div>\n",
       "<style scoped>\n",
       "    .dataframe tbody tr th:only-of-type {\n",
       "        vertical-align: middle;\n",
       "    }\n",
       "\n",
       "    .dataframe tbody tr th {\n",
       "        vertical-align: top;\n",
       "    }\n",
       "\n",
       "    .dataframe thead th {\n",
       "        text-align: right;\n",
       "    }\n",
       "</style>\n",
       "<table border=\"1\" class=\"dataframe\">\n",
       "  <thead>\n",
       "    <tr style=\"text-align: right;\">\n",
       "      <th></th>\n",
       "      <th>url</th>\n",
       "      <th>metadata/description</th>\n",
       "      <th>metadata/openGraph/3/content</th>\n",
       "      <th>text</th>\n",
       "      <th>markdown</th>\n",
       "    </tr>\n",
       "  </thead>\n",
       "  <tbody>\n",
       "    <tr>\n",
       "      <th>0</th>\n",
       "      <td>https://www.novartis.com/</td>\n",
       "      <td>Working together, we can reimagine medicine to...</td>\n",
       "      <td>Novartis</td>\n",
       "      <td>My Cancer. My Words. \\nIn a world where about ...</td>\n",
       "      <td>## My Cancer. My Words.\\n\\nIn a world where ab...</td>\n",
       "    </tr>\n",
       "    <tr>\n",
       "      <th>1</th>\n",
       "      <td>https://en.wikipedia.org/wiki/Novartis</td>\n",
       "      <td>NaN</td>\n",
       "      <td>https://upload.wikimedia.org/wikipedia/commons...</td>\n",
       "      <td>Novartis AG\\n\\t\\nHeadquarters in Basel\\n\\t\\nCo...</td>\n",
       "      <td>Novartis AG\\n\\n[![](https://upload.wikimedia.o...</td>\n",
       "    </tr>\n",
       "    <tr>\n",
       "      <th>2</th>\n",
       "      <td>https://www.novartisfoundation.org/</td>\n",
       "      <td>Transforming population health through data an...</td>\n",
       "      <td>NaN</td>\n",
       "      <td>Advancing digital and data-led approaches to p...</td>\n",
       "      <td>## Advancing digital and data-led approaches t...</td>\n",
       "    </tr>\n",
       "    <tr>\n",
       "      <th>3</th>\n",
       "      <td>https://www.novartis.com/research-development/...</td>\n",
       "      <td>NaN</td>\n",
       "      <td>Research and development | Novartis</td>\n",
       "      <td>We are an innovative medicines company with re...</td>\n",
       "      <td>We are an innovative medicines company with re...</td>\n",
       "    </tr>\n",
       "    <tr>\n",
       "      <th>4</th>\n",
       "      <td>https://www.novartis.com/news/media-releases/n...</td>\n",
       "      <td>NaN</td>\n",
       "      <td>Novartis announces planned acquisition of Endo...</td>\n",
       "      <td>Novartis to acquire Endocyte to accelerate dev...</td>\n",
       "      <td>*   _Novartis to acquire Endocyte to accelerat...</td>\n",
       "    </tr>\n",
       "  </tbody>\n",
       "</table>\n",
       "</div>"
      ],
      "text/plain": [
       "                                                 url  \\\n",
       "0                          https://www.novartis.com/   \n",
       "1             https://en.wikipedia.org/wiki/Novartis   \n",
       "2                https://www.novartisfoundation.org/   \n",
       "3  https://www.novartis.com/research-development/...   \n",
       "4  https://www.novartis.com/news/media-releases/n...   \n",
       "\n",
       "                                metadata/description  \\\n",
       "0  Working together, we can reimagine medicine to...   \n",
       "1                                                NaN   \n",
       "2  Transforming population health through data an...   \n",
       "3                                                NaN   \n",
       "4                                                NaN   \n",
       "\n",
       "                        metadata/openGraph/3/content  \\\n",
       "0                                           Novartis   \n",
       "1  https://upload.wikimedia.org/wikipedia/commons...   \n",
       "2                                                NaN   \n",
       "3                Research and development | Novartis   \n",
       "4  Novartis announces planned acquisition of Endo...   \n",
       "\n",
       "                                                text  \\\n",
       "0  My Cancer. My Words. \\nIn a world where about ...   \n",
       "1  Novartis AG\\n\\t\\nHeadquarters in Basel\\n\\t\\nCo...   \n",
       "2  Advancing digital and data-led approaches to p...   \n",
       "3  We are an innovative medicines company with re...   \n",
       "4  Novartis to acquire Endocyte to accelerate dev...   \n",
       "\n",
       "                                            markdown  \n",
       "0  ## My Cancer. My Words.\\n\\nIn a world where ab...  \n",
       "1  Novartis AG\\n\\n[![](https://upload.wikimedia.o...  \n",
       "2  ## Advancing digital and data-led approaches t...  \n",
       "3  We are an innovative medicines company with re...  \n",
       "4  *   _Novartis to acquire Endocyte to accelerat...  "
      ]
     },
     "execution_count": 3,
     "metadata": {},
     "output_type": "execute_result"
    }
   ],
   "source": [
    "import pandas as pd\n",
    "df = pd.read_csv('novartis_crawl_data.csv')\n",
    "df = df[['url', 'metadata/description', 'metadata/openGraph/3/content', 'text', 'markdown']]\n",
    "df.head(5)"
   ]
  },
  {
   "cell_type": "code",
   "execution_count": 4,
   "id": "51df7d2d-7aba-430a-9f99-a9257d9fd891",
   "metadata": {},
   "outputs": [
    {
     "name": "stdout",
     "output_type": "stream",
     "text": [
      "90th percentile: nan\n"
     ]
    },
    {
     "data": {
      "image/png": "[encoded data removed]",
      "text/plain": [
       "<Figure size 640x480 with 1 Axes>"
      ]
     },
     "metadata": {},
     "output_type": "display_data"
    }
   ],
   "source": [
    "import numpy as np\n",
    "from matplotlib import pyplot as plt\n",
    "\n",
    "chunk_sizes = df['text'].str.len()\n",
    "percentile_90th = np.percentile(chunk_sizes, 90)\n",
    "print('90th percentile:', percentile_90th)\n",
    "plt.hist(chunk_sizes, bins=30)\n",
    "plt.title('Distribution of text-chunks length, with 90th percentile')\n",
    "plt.xlabel('Length of text-chunk in characters')\n",
    "plt.axvline(x = percentile_90th, color = 'red', linestyle = '--', alpha = 0.5)\n",
    "plt.gca().spines[['top', 'right',]].set_visible(False)\n",
    "plt.show();"
   ]
  },
  {
   "cell_type": "code",
   "execution_count": 5,
   "id": "76fabe07-0260-4ffb-98cc-88949220068a",
   "metadata": {},
   "outputs": [
    {
     "ename": "ValueError",
     "evalue": "Cannot mask with non-boolean array containing NA / NaN values",
     "output_type": "error",
     "traceback": [
      "\u001b[0;31m---------------------------------------------------------------------------\u001b[0m",
      "\u001b[0;31mValueError\u001b[0m                                Traceback (most recent call last)",
      "Cell \u001b[0;32mIn[5], line 1\u001b[0m\n\u001b[0;32m----> 1\u001b[0m df\u001b[38;5;241m.\u001b[39mdrop(df[df[\u001b[38;5;124m'\u001b[39m\u001b[38;5;124mtext\u001b[39m\u001b[38;5;124m'\u001b[39m]\u001b[38;5;241m.\u001b[39mstr\u001b[38;5;241m.\u001b[39mcontains(\u001b[38;5;124m'\u001b[39m\u001b[38;5;124mPage not found \u001b[39m\u001b[38;5;124m\\\u001b[39m\u001b[38;5;124m(404\u001b[39m\u001b[38;5;124m\\\u001b[39m\u001b[38;5;124m)\u001b[39m\u001b[38;5;124m'\u001b[39m)]\u001b[38;5;241m.\u001b[39mindex, inplace\u001b[38;5;241m=\u001b[39m\u001b[38;5;28;01mTrue\u001b[39;00m)\n",
      "File \u001b[0;32m~/anaconda3/lib/python3.11/site-packages/pandas/core/frame.py:3883\u001b[0m, in \u001b[0;36mDataFrame.__getitem__\u001b[0;34m(self, key)\u001b[0m\n\u001b[1;32m   3880\u001b[0m     \u001b[38;5;28;01mreturn\u001b[39;00m \u001b[38;5;28mself\u001b[39m\u001b[38;5;241m.\u001b[39mwhere(key)\n\u001b[1;32m   3882\u001b[0m \u001b[38;5;66;03m# Do we have a (boolean) 1d indexer?\u001b[39;00m\n\u001b[0;32m-> 3883\u001b[0m \u001b[38;5;28;01mif\u001b[39;00m com\u001b[38;5;241m.\u001b[39mis_bool_indexer(key):\n\u001b[1;32m   3884\u001b[0m     \u001b[38;5;28;01mreturn\u001b[39;00m \u001b[38;5;28mself\u001b[39m\u001b[38;5;241m.\u001b[39m_getitem_bool_array(key)\n\u001b[1;32m   3886\u001b[0m \u001b[38;5;66;03m# We are left with two options: a single key, and a collection of keys,\u001b[39;00m\n\u001b[1;32m   3887\u001b[0m \u001b[38;5;66;03m# We interpret tuples as collections only for non-MultiIndex\u001b[39;00m\n",
      "File \u001b[0;32m~/anaconda3/lib/python3.11/site-packages/pandas/core/common.py:133\u001b[0m, in \u001b[0;36mis_bool_indexer\u001b[0;34m(key)\u001b[0m\n\u001b[1;32m    129\u001b[0m     na_msg \u001b[38;5;241m=\u001b[39m \u001b[38;5;124m\"\u001b[39m\u001b[38;5;124mCannot mask with non-boolean array containing NA / NaN values\u001b[39m\u001b[38;5;124m\"\u001b[39m\n\u001b[1;32m    130\u001b[0m     \u001b[38;5;28;01mif\u001b[39;00m lib\u001b[38;5;241m.\u001b[39mis_bool_array(key_array, skipna\u001b[38;5;241m=\u001b[39m\u001b[38;5;28;01mTrue\u001b[39;00m):\n\u001b[1;32m    131\u001b[0m         \u001b[38;5;66;03m# Don't raise on e.g. [\"A\", \"B\", np.nan], see\u001b[39;00m\n\u001b[1;32m    132\u001b[0m         \u001b[38;5;66;03m#  test_loc_getitem_list_of_labels_categoricalindex_with_na\u001b[39;00m\n\u001b[0;32m--> 133\u001b[0m         \u001b[38;5;28;01mraise\u001b[39;00m \u001b[38;5;167;01mValueError\u001b[39;00m(na_msg)\n\u001b[1;32m    134\u001b[0m     \u001b[38;5;28;01mreturn\u001b[39;00m \u001b[38;5;28;01mFalse\u001b[39;00m\n\u001b[1;32m    135\u001b[0m \u001b[38;5;28;01mreturn\u001b[39;00m \u001b[38;5;28;01mTrue\u001b[39;00m\n",
      "\u001b[0;31mValueError\u001b[0m: Cannot mask with non-boolean array containing NA / NaN values"
     ]
    }
   ],
   "source": [
    "df.drop(df[df['text'].str.contains('Page not found \\(404\\)')].index, inplace=True)"
   ]
  },
  {
   "cell_type": "code",
   "execution_count": 10,
   "id": "d57665d9-9829-40b5-a1e3-aa59aab770b0",
   "metadata": {},
   "outputs": [],
   "source": [
    "df.drop(df[df[\"text\"].isnull()].index, inplace=True)"
   ]
  },
  {
   "cell_type": "code",
   "execution_count": 13,
   "id": "7b78cd79-5bf5-426c-9705-8032ce8f8ec1",
   "metadata": {},
   "outputs": [],
   "source": [
    "df['text_length'] = df['text'].str.len()\n",
    "indexes_to_drop = df.sort_values('text_length').iloc[:70].index"
   ]
  },
  {
   "cell_type": "code",
   "execution_count": 23,
   "id": "00a81ecb-6dfa-4e3e-97e2-5b736ee1351d",
   "metadata": {},
   "outputs": [],
   "source": [
    "df.drop(indexes_to_drop, inplace=True)"
   ]
  },
  {
   "cell_type": "code",
   "execution_count": 25,
   "id": "25328ee8-6b1d-4d25-bfbd-73e8373f7111",
   "metadata": {},
   "outputs": [],
   "source": [
    "rows_indexes_to_truncate = df[df['text_length'] > 6000].index"
   ]
  },
  {
   "cell_type": "code",
   "execution_count": 27,
   "id": "4714d38e-40d3-4953-aa7b-b8cacb0af15d",
   "metadata": {},
   "outputs": [],
   "source": [
    "df.loc[rows_indexes_to_truncate, 'text'] = df.loc[rows_indexes_to_truncate, 'text'].str[:6000]"
   ]
  },
  {
   "cell_type": "code",
   "execution_count": 28,
   "id": "27047a42-b4db-47e9-bbf4-5a5b7bb742b1",
   "metadata": {},
   "outputs": [],
   "source": [
    "df.loc[rows_indexes_to_truncate, 'markdown'] = df.loc[rows_indexes_to_truncate, 'markdown'].str[:7000]"
   ]
  },
  {
   "cell_type": "code",
   "execution_count": 29,
   "id": "3ae7ce14-e7a3-468b-8450-d6c7910fad60",
   "metadata": {},
   "outputs": [],
   "source": [
    "df['text_length'] = df['text'].str.len()"
   ]
  },
  {
   "cell_type": "code",
   "execution_count": 30,
   "id": "f3f35ce6-bd67-4a4d-bf68-8e03f8908600",
   "metadata": {},
   "outputs": [],
   "source": [
    "chunk_sizes = df['text_length']"
   ]
  },
  {
   "cell_type": "code",
   "execution_count": 31,
   "id": "b469e35c-75c8-4c7b-bf1c-95e65999094e",
   "metadata": {},
   "outputs": [
    {
     "name": "stdout",
     "output_type": "stream",
     "text": [
      "Num of chunks: 10985\n",
      "50th percentile: 2121.0\n"
     ]
    },
    {
     "data": {
      "image/png": "[encoded data removed]",
      "text/plain": [
       "<Figure size 640x480 with 1 Axes>"
      ]
     },
     "metadata": {},
     "output_type": "display_data"
    }
   ],
   "source": [
    "percentile_50th = np.percentile(chunk_sizes, 50)\n",
    "print('Num of chunks:', len(chunk_sizes))\n",
    "print('50th percentile:', percentile_50th)\n",
    "plt.hist(chunk_sizes, bins=30)\n",
    "plt.axvline(x = percentile_50th, color = 'red', linestyle = '--', alpha = 0.5)\n",
    "plt.title('Distribution of text-chunks length with 50th percentile')\n",
    "plt.xlabel('Length of text-chunk in characters')\n",
    "plt.gca().spines[['top', 'right',]].set_visible(False)\n",
    "plt.show();"
   ]
  },
  {
   "cell_type": "code",
   "execution_count": 34,
   "id": "f627cd60-ee55-43b1-a1c4-1feec7d32a5f",
   "metadata": {},
   "outputs": [],
   "source": [
    "# df.reset_index(inplace=True)\n",
    "# df.drop([ 'index'], axis=1, inplace=True)"
   ]
  },
  {
   "cell_type": "code",
   "execution_count": 37,
   "id": "7059b8f9-39ae-446b-8f7f-63e1b1b60b83",
   "metadata": {},
   "outputs": [
    {
     "data": {
      "text/plain": [
       "Index(['url', 'metadata/description', 'metadata/openGraph/3/content', 'text',\n",
       "       'markdown', 'text_length'],\n",
       "      dtype='object')"
      ]
     },
     "execution_count": 37,
     "metadata": {},
     "output_type": "execute_result"
    }
   ],
   "source": [
    "df.columns"
   ]
  },
  {
   "cell_type": "code",
   "execution_count": 39,
   "id": "b69b8f54-af14-4b1c-96e7-2df53780918f",
   "metadata": {},
   "outputs": [],
   "source": [
    "# Writing cleaned texts into txt file with ######## delimeter \n",
    "with open('dataset_novartis.txt', 'w', encoding=\"utf-8\") as out:\n",
    "    for idx in df.index:\n",
    "        link = df.loc[idx,'url']\n",
    "        text = df.loc[idx,'text']\n",
    "        paragraph_text = text + '\\Details in the link: ' + link\n",
    "        out.write(paragraph_text + '\\n########')"
   ]
  },
  {
   "cell_type": "code",
   "execution_count": null,
   "id": "3980adc7-8df1-4e02-96a3-b57549180915",
   "metadata": {},
   "outputs": [],
   "source": []
  }
 ],
 "metadata": {
  "kernelspec": {
   "display_name": "Python 3 (ipykernel)",
   "language": "python",
   "name": "python3"
  },
  "language_info": {
   "codemirror_mode": {
    "name": "ipython",
    "version": 3
   },
   "file_extension": ".py",
   "mimetype": "text/x-python",
   "name": "python",
   "nbconvert_exporter": "python",
   "pygments_lexer": "ipython3",
   "version": "3.11.5"
  }
 },
 "nbformat": 4,
 "nbformat_minor": 5
}
